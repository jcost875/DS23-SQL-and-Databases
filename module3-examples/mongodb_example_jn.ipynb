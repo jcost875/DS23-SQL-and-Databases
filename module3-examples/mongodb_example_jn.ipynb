{
 "cells": [
  {
   "cell_type": "code",
   "execution_count": 13,
   "metadata": {},
   "outputs": [],
   "source": [
    "import pymongo"
   ]
  },
  {
   "cell_type": "code",
   "execution_count": 14,
   "metadata": {},
   "outputs": [],
   "source": [
    "PASSWORD = \"5R32h9vg1PPLe0K9\"\n",
    "DBNAME = \"test\""
   ]
  },
  {
   "cell_type": "code",
   "execution_count": 15,
   "metadata": {},
   "outputs": [],
   "source": [
    "def mongo_client(password, dbname):\n",
    "    \"\"\"\n",
    "    Using F String Formatting to add in dbname and password\n",
    "    to generate client object.\n",
    "    \"\"\"\n",
    "\n",
    "    client = pymongo.MongoClient(\n",
    "        \"mongodb+srv://nwdelafu-MacOS:{}@cluster0.dmymp.mongodb.net/{}?retryWrites=true&w=majority\"\n",
    "        .format(password, dbname)\n",
    "    )\n",
    "    return client"
   ]
  },
  {
   "cell_type": "code",
   "execution_count": 16,
   "metadata": {},
   "outputs": [],
   "source": [
    "client = mongo_client(PASSWORD, DBNAME)"
   ]
  },
  {
   "cell_type": "code",
   "execution_count": 17,
   "metadata": {},
   "outputs": [],
   "source": [
    "db = client.test"
   ]
  },
  {
   "cell_type": "code",
   "execution_count": 18,
   "metadata": {},
   "outputs": [
    {
     "data": {
      "text/plain": [
       "Collection(Database(MongoClient(host=['cluster0-shard-00-00.dmymp.mongodb.net:27017', 'cluster0-shard-00-01.dmymp.mongodb.net:27017', 'cluster0-shard-00-02.dmymp.mongodb.net:27017'], document_class=dict, tz_aware=False, connect=True, retrywrites=True, w='majority', authsource='admin', replicaset='atlas-oforxc-shard-0', ssl=True), 'test'), 'test')"
      ]
     },
     "execution_count": 18,
     "metadata": {},
     "output_type": "execute_result"
    }
   ],
   "source": [
    "db.test"
   ]
  },
  {
   "cell_type": "code",
   "execution_count": 19,
   "metadata": {},
   "outputs": [
    {
     "data": {
      "text/plain": [
       "['_BaseObject__codec_options',\n",
       " '_BaseObject__read_concern',\n",
       " '_BaseObject__read_preference',\n",
       " '_BaseObject__write_concern',\n",
       " '_Collection__create',\n",
       " '_Collection__create_indexes',\n",
       " '_Collection__database',\n",
       " '_Collection__find_and_modify',\n",
       " '_Collection__full_name',\n",
       " '_Collection__name',\n",
       " '_Collection__write_response_codec_options',\n",
       " '__call__',\n",
       " '__class__',\n",
       " '__delattr__',\n",
       " '__dict__',\n",
       " '__dir__',\n",
       " '__doc__',\n",
       " '__eq__',\n",
       " '__format__',\n",
       " '__ge__',\n",
       " '__getattr__',\n",
       " '__getattribute__',\n",
       " '__getitem__',\n",
       " '__gt__',\n",
       " '__hash__',\n",
       " '__init__',\n",
       " '__init_subclass__',\n",
       " '__iter__',\n",
       " '__le__',\n",
       " '__lt__',\n",
       " '__module__',\n",
       " '__ne__',\n",
       " '__new__',\n",
       " '__next__',\n",
       " '__reduce__',\n",
       " '__reduce_ex__',\n",
       " '__repr__',\n",
       " '__setattr__',\n",
       " '__sizeof__',\n",
       " '__str__',\n",
       " '__subclasshook__',\n",
       " '__weakref__',\n",
       " '_aggregate',\n",
       " '_aggregate_one_result',\n",
       " '_command',\n",
       " '_count',\n",
       " '_delete',\n",
       " '_delete_retryable',\n",
       " '_insert',\n",
       " '_insert_one',\n",
       " '_legacy_write',\n",
       " '_map_reduce',\n",
       " '_read_preference_for',\n",
       " '_socket_for_reads',\n",
       " '_socket_for_writes',\n",
       " '_update',\n",
       " '_update_retryable',\n",
       " '_write_concern_for',\n",
       " '_write_concern_for_cmd',\n",
       " 'aggregate',\n",
       " 'aggregate_raw_batches',\n",
       " 'bulk_write',\n",
       " 'codec_options',\n",
       " 'count',\n",
       " 'count_documents',\n",
       " 'create_index',\n",
       " 'create_indexes',\n",
       " 'database',\n",
       " 'delete_many',\n",
       " 'delete_one',\n",
       " 'distinct',\n",
       " 'drop',\n",
       " 'drop_index',\n",
       " 'drop_indexes',\n",
       " 'ensure_index',\n",
       " 'estimated_document_count',\n",
       " 'find',\n",
       " 'find_and_modify',\n",
       " 'find_one',\n",
       " 'find_one_and_delete',\n",
       " 'find_one_and_replace',\n",
       " 'find_one_and_update',\n",
       " 'find_raw_batches',\n",
       " 'full_name',\n",
       " 'group',\n",
       " 'index_information',\n",
       " 'initialize_ordered_bulk_op',\n",
       " 'initialize_unordered_bulk_op',\n",
       " 'inline_map_reduce',\n",
       " 'insert',\n",
       " 'insert_many',\n",
       " 'insert_one',\n",
       " 'list_indexes',\n",
       " 'map_reduce',\n",
       " 'name',\n",
       " 'next',\n",
       " 'options',\n",
       " 'parallel_scan',\n",
       " 'read_concern',\n",
       " 'read_preference',\n",
       " 'reindex',\n",
       " 'remove',\n",
       " 'rename',\n",
       " 'replace_one',\n",
       " 'save',\n",
       " 'update',\n",
       " 'update_many',\n",
       " 'update_one',\n",
       " 'watch',\n",
       " 'with_options',\n",
       " 'write_concern']"
      ]
     },
     "execution_count": 19,
     "metadata": {},
     "output_type": "execute_result"
    }
   ],
   "source": [
    "dir(db.test)"
   ]
  },
  {
   "cell_type": "code",
   "execution_count": 20,
   "metadata": {},
   "outputs": [
    {
     "name": "stdout",
     "output_type": "stream",
     "text": [
      "Help on method insert in module pymongo.collection:\n",
      "\n",
      "insert(doc_or_docs, manipulate=True, check_keys=True, continue_on_error=False, **kwargs) method of pymongo.collection.Collection instance\n",
      "    Insert a document(s) into this collection.\n",
      "    \n",
      "    **DEPRECATED** - Use :meth:`insert_one` or :meth:`insert_many` instead.\n",
      "    \n",
      "    .. versionchanged:: 3.0\n",
      "       Removed the `safe` parameter. Pass ``w=0`` for unacknowledged write\n",
      "       operations.\n",
      "\n"
     ]
    }
   ],
   "source": [
    "help(db.test.insert)"
   ]
  },
  {
   "cell_type": "code",
   "execution_count": 21,
   "metadata": {},
   "outputs": [
    {
     "name": "stdout",
     "output_type": "stream",
     "text": [
      "Help on method insert_one in module pymongo.collection:\n",
      "\n",
      "insert_one(document, bypass_document_validation=False, session=None) method of pymongo.collection.Collection instance\n",
      "    Insert a single document.\n",
      "    \n",
      "      >>> db.test.count_documents({'x': 1})\n",
      "      0\n",
      "      >>> result = db.test.insert_one({'x': 1})\n",
      "      >>> result.inserted_id\n",
      "      ObjectId('54f112defba522406c9cc208')\n",
      "      >>> db.test.find_one({'x': 1})\n",
      "      {u'x': 1, u'_id': ObjectId('54f112defba522406c9cc208')}\n",
      "    \n",
      "    :Parameters:\n",
      "      - `document`: The document to insert. Must be a mutable mapping\n",
      "        type. If the document does not have an _id field one will be\n",
      "        added automatically.\n",
      "      - `bypass_document_validation`: (optional) If ``True``, allows the\n",
      "        write to opt-out of document level validation. Default is\n",
      "        ``False``.\n",
      "      - `session` (optional): a\n",
      "        :class:`~pymongo.client_session.ClientSession`.\n",
      "    \n",
      "    :Returns:\n",
      "      - An instance of :class:`~pymongo.results.InsertOneResult`.\n",
      "    \n",
      "    .. seealso:: :ref:`writes-and-ids`\n",
      "    \n",
      "    .. note:: `bypass_document_validation` requires server version\n",
      "      **>= 3.2**\n",
      "    \n",
      "    .. versionchanged:: 3.6\n",
      "       Added ``session`` parameter.\n",
      "    \n",
      "    .. versionchanged:: 3.2\n",
      "      Added bypass_document_validation support\n",
      "    \n",
      "    .. versionadded:: 3.0\n",
      "\n"
     ]
    }
   ],
   "source": [
    "help(db.test.insert_one)"
   ]
  },
  {
   "cell_type": "code",
   "execution_count": 22,
   "metadata": {},
   "outputs": [],
   "source": [
    "result = db.test.insert_one({'x': 1})"
   ]
  },
  {
   "cell_type": "code",
   "execution_count": 23,
   "metadata": {},
   "outputs": [
    {
     "data": {
      "text/plain": [
       "{'_id': ObjectId('602d5d2b25a0c573b15a1999'), 'x': 1}"
      ]
     },
     "execution_count": 23,
     "metadata": {},
     "output_type": "execute_result"
    }
   ],
   "source": [
    "db.test.find_one({'x': 1})"
   ]
  },
  {
   "cell_type": "code",
   "execution_count": 24,
   "metadata": {},
   "outputs": [
    {
     "data": {
      "text/plain": [
       "ObjectId('602d5d2b25a0c573b15a1999')"
      ]
     },
     "execution_count": 24,
     "metadata": {},
     "output_type": "execute_result"
    }
   ],
   "source": [
    "result.inserted_id"
   ]
  },
  {
   "cell_type": "code",
   "execution_count": 25,
   "metadata": {},
   "outputs": [],
   "source": [
    "result = db.test.insert_one({'x': 1})"
   ]
  },
  {
   "cell_type": "code",
   "execution_count": 26,
   "metadata": {},
   "outputs": [
    {
     "data": {
      "text/plain": [
       "ObjectId('602d5da125a0c573b15a199a')"
      ]
     },
     "execution_count": 26,
     "metadata": {},
     "output_type": "execute_result"
    }
   ],
   "source": [
    "result.inserted_id"
   ]
  },
  {
   "cell_type": "code",
   "execution_count": 27,
   "metadata": {},
   "outputs": [
    {
     "data": {
      "text/plain": [
       "2"
      ]
     },
     "execution_count": 27,
     "metadata": {},
     "output_type": "execute_result"
    }
   ],
   "source": [
    "db.test.count_documents({'x': 1})"
   ]
  },
  {
   "cell_type": "code",
   "execution_count": 28,
   "metadata": {},
   "outputs": [],
   "source": [
    "result_3 = db.test.insert_one({'x': 1})"
   ]
  },
  {
   "cell_type": "code",
   "execution_count": 29,
   "metadata": {},
   "outputs": [
    {
     "data": {
      "text/plain": [
       "ObjectId('602d5de025a0c573b15a199b')"
      ]
     },
     "execution_count": 29,
     "metadata": {},
     "output_type": "execute_result"
    }
   ],
   "source": [
    "result_3.inserted_id"
   ]
  },
  {
   "cell_type": "code",
   "execution_count": 30,
   "metadata": {},
   "outputs": [
    {
     "data": {
      "text/plain": [
       "3"
      ]
     },
     "execution_count": 30,
     "metadata": {},
     "output_type": "execute_result"
    }
   ],
   "source": [
    "db.test.count_documents({'x': 1})"
   ]
  },
  {
   "cell_type": "code",
   "execution_count": 31,
   "metadata": {},
   "outputs": [
    {
     "data": {
      "text/plain": [
       "{'_id': ObjectId('602d5d2b25a0c573b15a1999'), 'x': 1}"
      ]
     },
     "execution_count": 31,
     "metadata": {},
     "output_type": "execute_result"
    }
   ],
   "source": [
    "db.test.find_one({'x': 1})"
   ]
  },
  {
   "cell_type": "code",
   "execution_count": 32,
   "metadata": {},
   "outputs": [
    {
     "data": {
      "text/plain": [
       "<pymongo.cursor.Cursor at 0x7fe982f07dc0>"
      ]
     },
     "execution_count": 32,
     "metadata": {},
     "output_type": "execute_result"
    }
   ],
   "source": [
    "db.test.find({'x': 1})"
   ]
  },
  {
   "cell_type": "code",
   "execution_count": 39,
   "metadata": {},
   "outputs": [],
   "source": [
    "results_cursor = db.test.find({'x': 1})"
   ]
  },
  {
   "cell_type": "code",
   "execution_count": 40,
   "metadata": {},
   "outputs": [],
   "source": [
    "results_list = list(results_cursor)"
   ]
  },
  {
   "cell_type": "code",
   "execution_count": 41,
   "metadata": {},
   "outputs": [
    {
     "data": {
      "text/plain": [
       "[{'_id': ObjectId('602d5d2b25a0c573b15a1999'), 'x': 1},\n",
       " {'_id': ObjectId('602d5da125a0c573b15a199a'), 'x': 1},\n",
       " {'_id': ObjectId('602d5de025a0c573b15a199b'), 'x': 1}]"
      ]
     },
     "execution_count": 41,
     "metadata": {},
     "output_type": "execute_result"
    }
   ],
   "source": [
    "results_list"
   ]
  },
  {
   "cell_type": "code",
   "execution_count": 46,
   "metadata": {},
   "outputs": [
    {
     "data": {
      "text/plain": [
       "{'_id': ObjectId('602d5da125a0c573b15a199a'), 'x': 1}"
      ]
     },
     "execution_count": 46,
     "metadata": {},
     "output_type": "execute_result"
    }
   ],
   "source": [
    "results_list[1]"
   ]
  },
  {
   "cell_type": "code",
   "execution_count": 47,
   "metadata": {},
   "outputs": [],
   "source": [
    "nick_doc = {\n",
    "    \"food\": \"Almonds\",\n",
    "    \"color\": \"Blue\",\n",
    "    \"number\": 5\n",
    "}\n",
    "\n",
    "george_doc = {\n",
    "    \"food\": \"Lobster\",\n",
    "    \"color\": \"Yellow\",\n",
    "    \"City\": [\"NY\", \"Chicago\"]\n",
    "}"
   ]
  },
  {
   "cell_type": "code",
   "execution_count": 48,
   "metadata": {},
   "outputs": [],
   "source": [
    "all_docs = [nick_doc, george_doc]"
   ]
  },
  {
   "cell_type": "code",
   "execution_count": 49,
   "metadata": {},
   "outputs": [
    {
     "data": {
      "text/plain": [
       "[{'food': 'Almonds', 'color': 'Blue', 'number': 5},\n",
       " {'food': 'Lobster', 'color': 'Yellow', 'City': ['NY', 'Chicago']}]"
      ]
     },
     "execution_count": 49,
     "metadata": {},
     "output_type": "execute_result"
    }
   ],
   "source": [
    "all_docs"
   ]
  },
  {
   "cell_type": "code",
   "execution_count": 50,
   "metadata": {},
   "outputs": [
    {
     "data": {
      "text/plain": [
       "2"
      ]
     },
     "execution_count": 50,
     "metadata": {},
     "output_type": "execute_result"
    }
   ],
   "source": [
    "len(all_docs)"
   ]
  },
  {
   "cell_type": "code",
   "execution_count": 51,
   "metadata": {},
   "outputs": [
    {
     "data": {
      "text/plain": [
       "<pymongo.results.InsertManyResult at 0x7fe982cff6c0>"
      ]
     },
     "execution_count": 51,
     "metadata": {},
     "output_type": "execute_result"
    }
   ],
   "source": [
    "db.test.insert_many(all_docs)"
   ]
  },
  {
   "cell_type": "code",
   "execution_count": 52,
   "metadata": {},
   "outputs": [
    {
     "data": {
      "text/plain": [
       "[{'_id': ObjectId('602d5d2b25a0c573b15a1999'), 'x': 1},\n",
       " {'_id': ObjectId('602d5da125a0c573b15a199a'), 'x': 1},\n",
       " {'_id': ObjectId('602d5de025a0c573b15a199b'), 'x': 1},\n",
       " {'_id': ObjectId('602d606a25a0c573b15a199c'),\n",
       "  'food': 'Almonds',\n",
       "  'color': 'Blue',\n",
       "  'number': 5},\n",
       " {'_id': ObjectId('602d606a25a0c573b15a199d'),\n",
       "  'food': 'Lobster',\n",
       "  'color': 'Yellow',\n",
       "  'City': ['NY', 'Chicago']}]"
      ]
     },
     "execution_count": 52,
     "metadata": {},
     "output_type": "execute_result"
    }
   ],
   "source": [
    "list(db.test.find())"
   ]
  },
  {
   "cell_type": "code",
   "execution_count": 53,
   "metadata": {},
   "outputs": [
    {
     "data": {
      "text/plain": [
       "<pymongo.results.InsertOneResult at 0x7fe982f23c80>"
      ]
     },
     "execution_count": 53,
     "metadata": {},
     "output_type": "execute_result"
    }
   ],
   "source": [
    "db.test.insert_one({\n",
    "    \"age\": 10,\n",
    "    \"snack\": \"apple\"\n",
    "})"
   ]
  },
  {
   "cell_type": "code",
   "execution_count": 54,
   "metadata": {},
   "outputs": [
    {
     "data": {
      "text/plain": [
       "[{'_id': ObjectId('602d5d2b25a0c573b15a1999'), 'x': 1},\n",
       " {'_id': ObjectId('602d5da125a0c573b15a199a'), 'x': 1},\n",
       " {'_id': ObjectId('602d5de025a0c573b15a199b'), 'x': 1},\n",
       " {'_id': ObjectId('602d606a25a0c573b15a199c'),\n",
       "  'food': 'Almonds',\n",
       "  'color': 'Blue',\n",
       "  'number': 5},\n",
       " {'_id': ObjectId('602d606a25a0c573b15a199d'),\n",
       "  'food': 'Lobster',\n",
       "  'color': 'Yellow',\n",
       "  'City': ['NY', 'Chicago']},\n",
       " {'_id': ObjectId('602d60de25a0c573b15a199e'), 'age': 10, 'snack': 'apple'}]"
      ]
     },
     "execution_count": 54,
     "metadata": {},
     "output_type": "execute_result"
    }
   ],
   "source": [
    "list(db.test.find())"
   ]
  },
  {
   "cell_type": "code",
   "execution_count": 55,
   "metadata": {},
   "outputs": [
    {
     "data": {
      "text/plain": [
       "[{'even': True, 'value': 0},\n",
       " {'even': False, 'value': 1},\n",
       " {'even': True, 'value': 2},\n",
       " {'even': False, 'value': 3},\n",
       " {'even': True, 'value': 4},\n",
       " {'even': False, 'value': 5},\n",
       " {'even': True, 'value': 6},\n",
       " {'even': False, 'value': 7},\n",
       " {'even': True, 'value': 8},\n",
       " {'even': False, 'value': 9}]"
      ]
     },
     "execution_count": 55,
     "metadata": {},
     "output_type": "execute_result"
    }
   ],
   "source": [
    "more_docs = []\n",
    "for i in range(10):\n",
    "    doc = {\"even\": i%2==0}\n",
    "    doc[\"value\"] = i\n",
    "    more_docs.append(doc)\n",
    "    \n",
    "more_docs"
   ]
  },
  {
   "cell_type": "code",
   "execution_count": 56,
   "metadata": {},
   "outputs": [
    {
     "data": {
      "text/plain": [
       "<pymongo.results.InsertManyResult at 0x7fe982f2dbc0>"
      ]
     },
     "execution_count": 56,
     "metadata": {},
     "output_type": "execute_result"
    }
   ],
   "source": [
    "db.test.insert_many(more_docs)"
   ]
  },
  {
   "cell_type": "code",
   "execution_count": 57,
   "metadata": {},
   "outputs": [
    {
     "data": {
      "text/plain": [
       "[{'_id': ObjectId('602d5d2b25a0c573b15a1999'), 'x': 1},\n",
       " {'_id': ObjectId('602d5da125a0c573b15a199a'), 'x': 1},\n",
       " {'_id': ObjectId('602d5de025a0c573b15a199b'), 'x': 1},\n",
       " {'_id': ObjectId('602d606a25a0c573b15a199c'),\n",
       "  'food': 'Almonds',\n",
       "  'color': 'Blue',\n",
       "  'number': 5},\n",
       " {'_id': ObjectId('602d606a25a0c573b15a199d'),\n",
       "  'food': 'Lobster',\n",
       "  'color': 'Yellow',\n",
       "  'City': ['NY', 'Chicago']},\n",
       " {'_id': ObjectId('602d60de25a0c573b15a199e'), 'age': 10, 'snack': 'apple'},\n",
       " {'_id': ObjectId('602d619f25a0c573b15a199f'), 'even': True, 'value': 0},\n",
       " {'_id': ObjectId('602d619f25a0c573b15a19a0'), 'even': False, 'value': 1},\n",
       " {'_id': ObjectId('602d619f25a0c573b15a19a1'), 'even': True, 'value': 2},\n",
       " {'_id': ObjectId('602d619f25a0c573b15a19a2'), 'even': False, 'value': 3},\n",
       " {'_id': ObjectId('602d619f25a0c573b15a19a3'), 'even': True, 'value': 4},\n",
       " {'_id': ObjectId('602d619f25a0c573b15a19a4'), 'even': False, 'value': 5},\n",
       " {'_id': ObjectId('602d619f25a0c573b15a19a5'), 'even': True, 'value': 6},\n",
       " {'_id': ObjectId('602d619f25a0c573b15a19a6'), 'even': False, 'value': 7},\n",
       " {'_id': ObjectId('602d619f25a0c573b15a19a7'), 'even': True, 'value': 8},\n",
       " {'_id': ObjectId('602d619f25a0c573b15a19a8'), 'even': False, 'value': 9}]"
      ]
     },
     "execution_count": 57,
     "metadata": {},
     "output_type": "execute_result"
    }
   ],
   "source": [
    "list(db.test.find())"
   ]
  },
  {
   "cell_type": "code",
   "execution_count": 59,
   "metadata": {},
   "outputs": [
    {
     "data": {
      "text/plain": [
       "[{'_id': ObjectId('602d619f25a0c573b15a19a0'), 'even': False, 'value': 1},\n",
       " {'_id': ObjectId('602d619f25a0c573b15a19a2'), 'even': False, 'value': 3},\n",
       " {'_id': ObjectId('602d619f25a0c573b15a19a4'), 'even': False, 'value': 5},\n",
       " {'_id': ObjectId('602d619f25a0c573b15a19a6'), 'even': False, 'value': 7},\n",
       " {'_id': ObjectId('602d619f25a0c573b15a19a8'), 'even': False, 'value': 9}]"
      ]
     },
     "execution_count": 59,
     "metadata": {},
     "output_type": "execute_result"
    }
   ],
   "source": [
    "list(db.test.find({\"even\": False}))"
   ]
  },
  {
   "cell_type": "code",
   "execution_count": 60,
   "metadata": {},
   "outputs": [
    {
     "data": {
      "text/plain": [
       "[{'_id': ObjectId('602d619f25a0c573b15a19a1'), 'even': True, 'value': 2}]"
      ]
     },
     "execution_count": 60,
     "metadata": {},
     "output_type": "execute_result"
    }
   ],
   "source": [
    "list(db.test.find({\"value\": 2}))"
   ]
  },
  {
   "cell_type": "code",
   "execution_count": 61,
   "metadata": {},
   "outputs": [
    {
     "data": {
      "text/plain": [
       "[{'_id': ObjectId('602d606a25a0c573b15a199d'),\n",
       "  'food': 'Lobster',\n",
       "  'color': 'Yellow',\n",
       "  'City': ['NY', 'Chicago']}]"
      ]
     },
     "execution_count": 61,
     "metadata": {},
     "output_type": "execute_result"
    }
   ],
   "source": [
    "list(db.test.find({\"color\": \"Yellow\"}))"
   ]
  },
  {
   "cell_type": "code",
   "execution_count": null,
   "metadata": {},
   "outputs": [],
   "source": []
  }
 ],
 "metadata": {
  "kernelspec": {
   "display_name": "Python 3",
   "language": "python",
   "name": "python3"
  },
  "language_info": {
   "codemirror_mode": {
    "name": "ipython",
    "version": 3
   },
   "file_extension": ".py",
   "mimetype": "text/x-python",
   "name": "python",
   "nbconvert_exporter": "python",
   "pygments_lexer": "ipython3",
   "version": "3.8.3"
  }
 },
 "nbformat": 4,
 "nbformat_minor": 4
}
